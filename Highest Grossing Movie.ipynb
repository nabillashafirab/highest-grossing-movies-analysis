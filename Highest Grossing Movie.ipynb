{
 "cells": [
  {
   "attachments": {},
   "cell_type": "markdown",
   "metadata": {},
   "source": [
    "<h1>Top 1000 Highest Grossing Movies: What is the most popular genre?</h1>\n",
    "<p>In this program, I process 'Top 1000 Highest Grossing Movies' dataset from Kaggle to find the most popular genre based on their grossing</p>\n",
    "<p>Source: https://www.kaggle.com/datasets/sanjeetsinghnaik/top-1000-highest-grossing-movies</p>"
   ]
  },
  {
   "cell_type": "code",
   "execution_count": 1,
   "metadata": {},
   "outputs": [],
   "source": [
    "# import libraries\n",
    "import pandas as pd\n",
    "import matplotlib.pyplot as plt\n",
    "from pandasql import sqldf"
   ]
  },
  {
   "attachments": {},
   "cell_type": "markdown",
   "metadata": {},
   "source": [
    "<h2> Loading dataset </h2>"
   ]
  },
  {
   "cell_type": "code",
   "execution_count": 3,
   "metadata": {},
   "outputs": [
    {
     "data": {
      "text/plain": [
       "['Unnamed: 0',\n",
       " 'Title',\n",
       " 'Movie Info',\n",
       " 'Distributor',\n",
       " 'Release Date',\n",
       " 'Domestic Sales (in $)',\n",
       " 'International Sales (in $)',\n",
       " 'World Sales (in $)',\n",
       " 'Genre',\n",
       " 'Movie Runtime',\n",
       " 'License']"
      ]
     },
     "execution_count": 3,
     "metadata": {},
     "output_type": "execute_result"
    }
   ],
   "source": [
    "df = pd.read_csv(r'C:\\Users\\Nabilla Shafira\\Documents\\SQL\\Highest Holywood Grossing Movies.csv')\n",
    "list(df.columns)"
   ]
  },
  {
   "attachments": {},
   "cell_type": "markdown",
   "metadata": {},
   "source": [
    "<h2>SQL Query</h2>\n",
    "Explore the distribution of movies across different genres. Identify the most popular genres and analyze how the sales vary across genres by grouping the genre with the total of sales"
   ]
  },
  {
   "cell_type": "code",
   "execution_count": 37,
   "metadata": {},
   "outputs": [
    {
     "name": "stderr",
     "output_type": "stream",
     "text": [
      "c:\\ProgramData\\Anaconda3\\lib\\site-packages\\ipykernel_launcher.py:3: FutureWarning: The default value of regex will change from True to False in a future version. In addition, single character regular expressions will *not* be treated as literal strings when regex=True.\n",
      "  This is separate from the ipykernel package so we can avoid doing imports until\n",
      "c:\\ProgramData\\Anaconda3\\lib\\site-packages\\ipykernel_launcher.py:4: FutureWarning: The default value of regex will change from True to False in a future version. In addition, single character regular expressions will *not* be treated as literal strings when regex=True.\n",
      "  after removing the cwd from sys.path.\n"
     ]
    },
    {
     "data": {
      "text/html": [
       "<div>\n",
       "<style scoped>\n",
       "    .dataframe tbody tr th:only-of-type {\n",
       "        vertical-align: middle;\n",
       "    }\n",
       "\n",
       "    .dataframe tbody tr th {\n",
       "        vertical-align: top;\n",
       "    }\n",
       "\n",
       "    .dataframe thead th {\n",
       "        text-align: right;\n",
       "    }\n",
       "</style>\n",
       "<table border=\"1\" class=\"dataframe\">\n",
       "  <thead>\n",
       "    <tr style=\"text-align: right;\">\n",
       "      <th></th>\n",
       "      <th>Genre</th>\n",
       "      <th>Total Domestic Sales (in $)</th>\n",
       "      <th>Total International Sales (in $)</th>\n",
       "      <th>Total World Sales (in $)</th>\n",
       "    </tr>\n",
       "  </thead>\n",
       "  <tbody>\n",
       "    <tr>\n",
       "      <th>0</th>\n",
       "      <td>'Documentary'</td>\n",
       "      <td>236424463</td>\n",
       "      <td>157708211</td>\n",
       "      <td>394132674</td>\n",
       "    </tr>\n",
       "    <tr>\n",
       "      <th>1</th>\n",
       "      <td>'Western'</td>\n",
       "      <td>1731348406</td>\n",
       "      <td>1986265221</td>\n",
       "      <td>3717613627</td>\n",
       "    </tr>\n",
       "    <tr>\n",
       "      <th>2</th>\n",
       "      <td>'History'</td>\n",
       "      <td>2834670753</td>\n",
       "      <td>3563646203</td>\n",
       "      <td>6398639386</td>\n",
       "    </tr>\n",
       "    <tr>\n",
       "      <th>3</th>\n",
       "      <td>'Sport'</td>\n",
       "      <td>3615990793</td>\n",
       "      <td>2837254903</td>\n",
       "      <td>6453245696</td>\n",
       "    </tr>\n",
       "    <tr>\n",
       "      <th>4</th>\n",
       "      <td>'War'</td>\n",
       "      <td>3769655255</td>\n",
       "      <td>3647185902</td>\n",
       "      <td>7249944157</td>\n",
       "    </tr>\n",
       "    <tr>\n",
       "      <th>5</th>\n",
       "      <td>'Biography'</td>\n",
       "      <td>5106575366</td>\n",
       "      <td>4840788274</td>\n",
       "      <td>9947363640</td>\n",
       "    </tr>\n",
       "    <tr>\n",
       "      <th>6</th>\n",
       "      <td>'Music'</td>\n",
       "      <td>4462133789</td>\n",
       "      <td>5736450679</td>\n",
       "      <td>10198584468</td>\n",
       "    </tr>\n",
       "    <tr>\n",
       "      <th>7</th>\n",
       "      <td>'Horror'</td>\n",
       "      <td>5671605976</td>\n",
       "      <td>6544814064</td>\n",
       "      <td>12288802095</td>\n",
       "    </tr>\n",
       "    <tr>\n",
       "      <th>8</th>\n",
       "      <td>'Musical'</td>\n",
       "      <td>9434264171</td>\n",
       "      <td>13747463213</td>\n",
       "      <td>22929353459</td>\n",
       "    </tr>\n",
       "    <tr>\n",
       "      <th>9</th>\n",
       "      <td>'Mystery'</td>\n",
       "      <td>12695760687</td>\n",
       "      <td>18564237520</td>\n",
       "      <td>31177393515</td>\n",
       "    </tr>\n",
       "    <tr>\n",
       "      <th>10</th>\n",
       "      <td>'Crime'</td>\n",
       "      <td>18943070585</td>\n",
       "      <td>22591278686</td>\n",
       "      <td>41356910524</td>\n",
       "    </tr>\n",
       "    <tr>\n",
       "      <th>11</th>\n",
       "      <td>'Romance'</td>\n",
       "      <td>21225752724</td>\n",
       "      <td>25698925797</td>\n",
       "      <td>46626573801</td>\n",
       "    </tr>\n",
       "    <tr>\n",
       "      <th>12</th>\n",
       "      <td>'Animation'</td>\n",
       "      <td>26278935363</td>\n",
       "      <td>40676619253</td>\n",
       "      <td>66703180691</td>\n",
       "    </tr>\n",
       "    <tr>\n",
       "      <th>13</th>\n",
       "      <td>'Thriller'</td>\n",
       "      <td>33716073278</td>\n",
       "      <td>49317730580</td>\n",
       "      <td>82945767175</td>\n",
       "    </tr>\n",
       "    <tr>\n",
       "      <th>14</th>\n",
       "      <td>'Family'</td>\n",
       "      <td>40099321901</td>\n",
       "      <td>58775947400</td>\n",
       "      <td>98508710535</td>\n",
       "    </tr>\n",
       "    <tr>\n",
       "      <th>15</th>\n",
       "      <td>'Drama'</td>\n",
       "      <td>44438357025</td>\n",
       "      <td>55086171131</td>\n",
       "      <td>98963789161</td>\n",
       "    </tr>\n",
       "    <tr>\n",
       "      <th>16</th>\n",
       "      <td>'Fantasy'</td>\n",
       "      <td>44431294584</td>\n",
       "      <td>67261061732</td>\n",
       "      <td>111657356323</td>\n",
       "    </tr>\n",
       "    <tr>\n",
       "      <th>17</th>\n",
       "      <td>'Sci-Fi'</td>\n",
       "      <td>49334295312</td>\n",
       "      <td>73245420906</td>\n",
       "      <td>122553076019</td>\n",
       "    </tr>\n",
       "    <tr>\n",
       "      <th>18</th>\n",
       "      <td>'Comedy'</td>\n",
       "      <td>60311556016</td>\n",
       "      <td>71496471163</td>\n",
       "      <td>131008997340</td>\n",
       "    </tr>\n",
       "    <tr>\n",
       "      <th>19</th>\n",
       "      <td>'Action'</td>\n",
       "      <td>75580282948</td>\n",
       "      <td>112781141423</td>\n",
       "      <td>188363792761</td>\n",
       "    </tr>\n",
       "    <tr>\n",
       "      <th>20</th>\n",
       "      <td>'Adventure'</td>\n",
       "      <td>89126401658</td>\n",
       "      <td>140645339891</td>\n",
       "      <td>229470200349</td>\n",
       "    </tr>\n",
       "  </tbody>\n",
       "</table>\n",
       "</div>"
      ],
      "text/plain": [
       "            Genre  Total Domestic Sales (in $)  \\\n",
       "0   'Documentary'                    236424463   \n",
       "1       'Western'                   1731348406   \n",
       "2       'History'                   2834670753   \n",
       "3         'Sport'                   3615990793   \n",
       "4           'War'                   3769655255   \n",
       "5     'Biography'                   5106575366   \n",
       "6         'Music'                   4462133789   \n",
       "7        'Horror'                   5671605976   \n",
       "8       'Musical'                   9434264171   \n",
       "9       'Mystery'                  12695760687   \n",
       "10        'Crime'                  18943070585   \n",
       "11      'Romance'                  21225752724   \n",
       "12    'Animation'                  26278935363   \n",
       "13     'Thriller'                  33716073278   \n",
       "14       'Family'                  40099321901   \n",
       "15        'Drama'                  44438357025   \n",
       "16      'Fantasy'                  44431294584   \n",
       "17       'Sci-Fi'                  49334295312   \n",
       "18       'Comedy'                  60311556016   \n",
       "19       'Action'                  75580282948   \n",
       "20    'Adventure'                  89126401658   \n",
       "\n",
       "    Total International Sales (in $)  Total World Sales (in $)  \n",
       "0                          157708211                 394132674  \n",
       "1                         1986265221                3717613627  \n",
       "2                         3563646203                6398639386  \n",
       "3                         2837254903                6453245696  \n",
       "4                         3647185902                7249944157  \n",
       "5                         4840788274                9947363640  \n",
       "6                         5736450679               10198584468  \n",
       "7                         6544814064               12288802095  \n",
       "8                        13747463213               22929353459  \n",
       "9                        18564237520               31177393515  \n",
       "10                       22591278686               41356910524  \n",
       "11                       25698925797               46626573801  \n",
       "12                       40676619253               66703180691  \n",
       "13                       49317730580               82945767175  \n",
       "14                       58775947400               98508710535  \n",
       "15                       55086171131               98963789161  \n",
       "16                       67261061732              111657356323  \n",
       "17                       73245420906              122553076019  \n",
       "18                       71496471163              131008997340  \n",
       "19                      112781141423              188363792761  \n",
       "20                      140645339891              229470200349  "
      ]
     },
     "execution_count": 37,
     "metadata": {},
     "output_type": "execute_result"
    }
   ],
   "source": [
    "# Since 'UNNEST' function is not available here, I tried to use this method\n",
    "# Removing the unwanted characters\n",
    "df['Genre'] = df['Genre'].str.replace('[', '')\n",
    "df['Genre'] = df['Genre'].str.replace(']', '')\n",
    "df['Genre'] = df['Genre'].str.replace(' ', '')\n",
    "\n",
    "#Unnesting\n",
    "df_unnested = df.assign(Genre=df['Genre'].str.split(',')) \\\n",
    "               .explode('Genre') \\\n",
    "               .reset_index(drop=True)\n",
    "\n",
    "#Query writing\n",
    "query = \"\"\"\n",
    "        SELECT Genre, \n",
    "                SUM(\"Domestic Sales (in $)\") AS \"Total Domestic Sales (in $)\", \n",
    "                SUM(\"International Sales (in $)\") AS \"Total International Sales (in $)\",\n",
    "                SUM(\"World Sales (in $)\") AS \"Total World Sales (in $)\"\n",
    "        FROM df_unnested \n",
    "        GROUP BY Genre\n",
    "        ORDER BY \"Total World Sales (in $)\"\n",
    "        \"\"\"\n",
    "focus = sqldf(query, globals()) #apply the query into datafrane\n",
    "list (focus.Genre) #listing the genres\n",
    "focus"
   ]
  },
  {
   "attachments": {},
   "cell_type": "markdown",
   "metadata": {},
   "source": [
    "<h2>Plotting the data</h2>\n",
    "<p>Using matplotlib, I plotted the processed data above</p>"
   ]
  },
  {
   "cell_type": "code",
   "execution_count": 39,
   "metadata": {},
   "outputs": [
    {
     "data": {
      "text/plain": [
       "<AxesSubplot:xlabel='Genre'>"
      ]
     },
     "execution_count": 39,
     "metadata": {},
     "output_type": "execute_result"
    },
    {
     "data": {
      "image/png": "[encoded data removed]",
      "text/plain": [
       "<Figure size 640x480 with 1 Axes>"
      ]
     },
     "metadata": {},
     "output_type": "display_data"
    }
   ],
   "source": [
    "focus.plot(x=\"Genre\", y=[\"Total Domestic Sales (in $)\", \"Total International Sales (in $)\", \"Total World Sales (in $)\"], kind=\"bar\")"
   ]
  }
 ],
 "metadata": {
  "kernelspec": {
   "display_name": "myenv",
   "language": "python",
   "name": "myenv"
  },
  "language_info": {
   "codemirror_mode": {
    "name": "ipython",
    "version": 3
   },
   "file_extension": ".py",
   "mimetype": "text/x-python",
   "name": "python",
   "nbconvert_exporter": "python",
   "pygments_lexer": "ipython3",
   "version": "3.7.11"
  },
  "orig_nbformat": 4
 },
 "nbformat": 4,
 "nbformat_minor": 2
}
